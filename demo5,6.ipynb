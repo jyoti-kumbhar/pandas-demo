{
 "cells": [
  {
   "cell_type": "code",
   "execution_count": 3,
   "id": "9030b1ad-0f55-4a42-bd9d-c80bf906b67d",
   "metadata": {},
   "outputs": [],
   "source": [
    "import pandas as pd"
   ]
  },
  {
   "cell_type": "code",
   "execution_count": 2,
   "id": "04626698-1404-4a76-a66f-67d0ac9b48fd",
   "metadata": {},
   "outputs": [],
   "source": [
    "people = {\n",
    "    \"first\" : [\"Jyoti\", \"Bhumika\",\"Kermeen\",\"Gauri\"],\n",
    "    \"second\" : [\"Kumbhar\", \"Shelar\",\"Deboo\",\"Kumbhar\"],\n",
    "    \"third\" : [\"J@gmail.com\",\"BS@gmail.com\",\"K@gmail.com\",\"GK@gmail.com\"]\n",
    "}"
   ]
  },
  {
   "cell_type": "code",
   "execution_count": 4,
   "id": "a585d735-12b8-40dc-bfd9-3a3b1e71940e",
   "metadata": {},
   "outputs": [
    {
     "data": {
      "text/html": [
       "<div>\n",
       "<style scoped>\n",
       "    .dataframe tbody tr th:only-of-type {\n",
       "        vertical-align: middle;\n",
       "    }\n",
       "\n",
       "    .dataframe tbody tr th {\n",
       "        vertical-align: top;\n",
       "    }\n",
       "\n",
       "    .dataframe thead th {\n",
       "        text-align: right;\n",
       "    }\n",
       "</style>\n",
       "<table border=\"1\" class=\"dataframe\">\n",
       "  <thead>\n",
       "    <tr style=\"text-align: right;\">\n",
       "      <th></th>\n",
       "      <th>first</th>\n",
       "      <th>second</th>\n",
       "      <th>third</th>\n",
       "    </tr>\n",
       "  </thead>\n",
       "  <tbody>\n",
       "    <tr>\n",
       "      <th>0</th>\n",
       "      <td>Jyoti</td>\n",
       "      <td>Kumbhar</td>\n",
       "      <td>J@gmail.com</td>\n",
       "    </tr>\n",
       "    <tr>\n",
       "      <th>1</th>\n",
       "      <td>Bhumika</td>\n",
       "      <td>Shelar</td>\n",
       "      <td>BS@gmail.com</td>\n",
       "    </tr>\n",
       "    <tr>\n",
       "      <th>2</th>\n",
       "      <td>Kermeen</td>\n",
       "      <td>Deboo</td>\n",
       "      <td>K@gmail.com</td>\n",
       "    </tr>\n",
       "    <tr>\n",
       "      <th>3</th>\n",
       "      <td>Gauri</td>\n",
       "      <td>Kumbhar</td>\n",
       "      <td>GK@gmail.com</td>\n",
       "    </tr>\n",
       "  </tbody>\n",
       "</table>\n",
       "</div>"
      ],
      "text/plain": [
       "     first   second         third\n",
       "0    Jyoti  Kumbhar   J@gmail.com\n",
       "1  Bhumika   Shelar  BS@gmail.com\n",
       "2  Kermeen    Deboo   K@gmail.com\n",
       "3    Gauri  Kumbhar  GK@gmail.com"
      ]
     },
     "execution_count": 4,
     "metadata": {},
     "output_type": "execute_result"
    }
   ],
   "source": [
    "df = pd.DataFrame(people)\n",
    "df"
   ]
  },
  {
   "cell_type": "code",
   "execution_count": 5,
   "id": "92ef43ff-b29f-4983-9ebe-8e65aaa68f84",
   "metadata": {},
   "outputs": [
    {
     "data": {
      "text/plain": [
       "Index(['first', 'second', 'third'], dtype='object')"
      ]
     },
     "execution_count": 5,
     "metadata": {},
     "output_type": "execute_result"
    }
   ],
   "source": [
    "df.columns"
   ]
  },
  {
   "cell_type": "code",
   "execution_count": 9,
   "id": "c3d7093a-9fff-48d7-8b1b-bb62973808a2",
   "metadata": {},
   "outputs": [
    {
     "data": {
      "text/plain": [
       "Index(['firstName', 'lastName', 'email'], dtype='object')"
      ]
     },
     "execution_count": 9,
     "metadata": {},
     "output_type": "execute_result"
    }
   ],
   "source": [
    "df.columns=['firstName','lastName','email']\n",
    "df.columns"
   ]
  },
  {
   "cell_type": "code",
   "execution_count": 7,
   "id": "b978cdb4-0fde-4210-9d5a-dbc1d4705046",
   "metadata": {},
   "outputs": [
    {
     "data": {
      "text/html": [
       "<div>\n",
       "<style scoped>\n",
       "    .dataframe tbody tr th:only-of-type {\n",
       "        vertical-align: middle;\n",
       "    }\n",
       "\n",
       "    .dataframe tbody tr th {\n",
       "        vertical-align: top;\n",
       "    }\n",
       "\n",
       "    .dataframe thead th {\n",
       "        text-align: right;\n",
       "    }\n",
       "</style>\n",
       "<table border=\"1\" class=\"dataframe\">\n",
       "  <thead>\n",
       "    <tr style=\"text-align: right;\">\n",
       "      <th></th>\n",
       "      <th>firstName</th>\n",
       "      <th>lastName</th>\n",
       "      <th>email</th>\n",
       "    </tr>\n",
       "  </thead>\n",
       "  <tbody>\n",
       "    <tr>\n",
       "      <th>0</th>\n",
       "      <td>Jyoti</td>\n",
       "      <td>Kumbhar</td>\n",
       "      <td>J@gmail.com</td>\n",
       "    </tr>\n",
       "    <tr>\n",
       "      <th>1</th>\n",
       "      <td>Bhumika</td>\n",
       "      <td>Shelar</td>\n",
       "      <td>BS@gmail.com</td>\n",
       "    </tr>\n",
       "    <tr>\n",
       "      <th>2</th>\n",
       "      <td>Kermeen</td>\n",
       "      <td>Deboo</td>\n",
       "      <td>K@gmail.com</td>\n",
       "    </tr>\n",
       "    <tr>\n",
       "      <th>3</th>\n",
       "      <td>Gauri</td>\n",
       "      <td>Kumbhar</td>\n",
       "      <td>GK@gmail.com</td>\n",
       "    </tr>\n",
       "  </tbody>\n",
       "</table>\n",
       "</div>"
      ],
      "text/plain": [
       "  firstName lastName         email\n",
       "0     Jyoti  Kumbhar   J@gmail.com\n",
       "1   Bhumika   Shelar  BS@gmail.com\n",
       "2   Kermeen    Deboo   K@gmail.com\n",
       "3     Gauri  Kumbhar  GK@gmail.com"
      ]
     },
     "execution_count": 7,
     "metadata": {},
     "output_type": "execute_result"
    }
   ],
   "source": [
    "df"
   ]
  },
  {
   "cell_type": "code",
   "execution_count": 10,
   "id": "6902d0c0-fba2-4a69-8fbb-9028319b95e8",
   "metadata": {},
   "outputs": [
    {
     "data": {
      "text/html": [
       "<div>\n",
       "<style scoped>\n",
       "    .dataframe tbody tr th:only-of-type {\n",
       "        vertical-align: middle;\n",
       "    }\n",
       "\n",
       "    .dataframe tbody tr th {\n",
       "        vertical-align: top;\n",
       "    }\n",
       "\n",
       "    .dataframe thead th {\n",
       "        text-align: right;\n",
       "    }\n",
       "</style>\n",
       "<table border=\"1\" class=\"dataframe\">\n",
       "  <thead>\n",
       "    <tr style=\"text-align: right;\">\n",
       "      <th></th>\n",
       "      <th>FIRSTNAME</th>\n",
       "      <th>LASTNAME</th>\n",
       "      <th>EMAIL</th>\n",
       "    </tr>\n",
       "  </thead>\n",
       "  <tbody>\n",
       "    <tr>\n",
       "      <th>0</th>\n",
       "      <td>Jyoti</td>\n",
       "      <td>Kumbhar</td>\n",
       "      <td>J@gmail.com</td>\n",
       "    </tr>\n",
       "    <tr>\n",
       "      <th>1</th>\n",
       "      <td>Bhumika</td>\n",
       "      <td>Shelar</td>\n",
       "      <td>BS@gmail.com</td>\n",
       "    </tr>\n",
       "    <tr>\n",
       "      <th>2</th>\n",
       "      <td>Kermeen</td>\n",
       "      <td>Deboo</td>\n",
       "      <td>K@gmail.com</td>\n",
       "    </tr>\n",
       "    <tr>\n",
       "      <th>3</th>\n",
       "      <td>Gauri</td>\n",
       "      <td>Kumbhar</td>\n",
       "      <td>GK@gmail.com</td>\n",
       "    </tr>\n",
       "  </tbody>\n",
       "</table>\n",
       "</div>"
      ],
      "text/plain": [
       "  FIRSTNAME LASTNAME         EMAIL\n",
       "0     Jyoti  Kumbhar   J@gmail.com\n",
       "1   Bhumika   Shelar  BS@gmail.com\n",
       "2   Kermeen    Deboo   K@gmail.com\n",
       "3     Gauri  Kumbhar  GK@gmail.com"
      ]
     },
     "execution_count": 10,
     "metadata": {},
     "output_type": "execute_result"
    }
   ],
   "source": [
    "df.columns=[x.upper() for x in df.columns]\n",
    "df"
   ]
  },
  {
   "cell_type": "code",
   "execution_count": 11,
   "id": "71eb1a54-4277-44a7-84ca-072c9ba4319d",
   "metadata": {},
   "outputs": [
    {
     "data": {
      "text/html": [
       "<div>\n",
       "<style scoped>\n",
       "    .dataframe tbody tr th:only-of-type {\n",
       "        vertical-align: middle;\n",
       "    }\n",
       "\n",
       "    .dataframe tbody tr th {\n",
       "        vertical-align: top;\n",
       "    }\n",
       "\n",
       "    .dataframe thead th {\n",
       "        text-align: right;\n",
       "    }\n",
       "</style>\n",
       "<table border=\"1\" class=\"dataframe\">\n",
       "  <thead>\n",
       "    <tr style=\"text-align: right;\">\n",
       "      <th></th>\n",
       "      <th>firstname</th>\n",
       "      <th>lastname</th>\n",
       "      <th>email</th>\n",
       "    </tr>\n",
       "  </thead>\n",
       "  <tbody>\n",
       "    <tr>\n",
       "      <th>0</th>\n",
       "      <td>Jyoti</td>\n",
       "      <td>Kumbhar</td>\n",
       "      <td>J@gmail.com</td>\n",
       "    </tr>\n",
       "    <tr>\n",
       "      <th>1</th>\n",
       "      <td>Bhumika</td>\n",
       "      <td>Shelar</td>\n",
       "      <td>BS@gmail.com</td>\n",
       "    </tr>\n",
       "    <tr>\n",
       "      <th>2</th>\n",
       "      <td>Kermeen</td>\n",
       "      <td>Deboo</td>\n",
       "      <td>K@gmail.com</td>\n",
       "    </tr>\n",
       "    <tr>\n",
       "      <th>3</th>\n",
       "      <td>Gauri</td>\n",
       "      <td>Kumbhar</td>\n",
       "      <td>GK@gmail.com</td>\n",
       "    </tr>\n",
       "  </tbody>\n",
       "</table>\n",
       "</div>"
      ],
      "text/plain": [
       "  firstname lastname         email\n",
       "0     Jyoti  Kumbhar   J@gmail.com\n",
       "1   Bhumika   Shelar  BS@gmail.com\n",
       "2   Kermeen    Deboo   K@gmail.com\n",
       "3     Gauri  Kumbhar  GK@gmail.com"
      ]
     },
     "execution_count": 11,
     "metadata": {},
     "output_type": "execute_result"
    }
   ],
   "source": [
    "df.columns=[x.lower() for x in df.columns]\n",
    "df"
   ]
  },
  {
   "cell_type": "code",
   "execution_count": 12,
   "id": "bfb609ba-af69-4134-9347-cc4028d897f9",
   "metadata": {},
   "outputs": [
    {
     "data": {
      "text/html": [
       "<div>\n",
       "<style scoped>\n",
       "    .dataframe tbody tr th:only-of-type {\n",
       "        vertical-align: middle;\n",
       "    }\n",
       "\n",
       "    .dataframe tbody tr th {\n",
       "        vertical-align: top;\n",
       "    }\n",
       "\n",
       "    .dataframe thead th {\n",
       "        text-align: right;\n",
       "    }\n",
       "</style>\n",
       "<table border=\"1\" class=\"dataframe\">\n",
       "  <thead>\n",
       "    <tr style=\"text-align: right;\">\n",
       "      <th></th>\n",
       "      <th>first name</th>\n",
       "      <th>last name</th>\n",
       "      <th>email</th>\n",
       "    </tr>\n",
       "  </thead>\n",
       "  <tbody>\n",
       "    <tr>\n",
       "      <th>0</th>\n",
       "      <td>Jyoti</td>\n",
       "      <td>Kumbhar</td>\n",
       "      <td>J@gmail.com</td>\n",
       "    </tr>\n",
       "    <tr>\n",
       "      <th>1</th>\n",
       "      <td>Bhumika</td>\n",
       "      <td>Shelar</td>\n",
       "      <td>BS@gmail.com</td>\n",
       "    </tr>\n",
       "    <tr>\n",
       "      <th>2</th>\n",
       "      <td>Kermeen</td>\n",
       "      <td>Deboo</td>\n",
       "      <td>K@gmail.com</td>\n",
       "    </tr>\n",
       "    <tr>\n",
       "      <th>3</th>\n",
       "      <td>Gauri</td>\n",
       "      <td>Kumbhar</td>\n",
       "      <td>GK@gmail.com</td>\n",
       "    </tr>\n",
       "  </tbody>\n",
       "</table>\n",
       "</div>"
      ],
      "text/plain": [
       "  first name last name         email\n",
       "0      Jyoti   Kumbhar   J@gmail.com\n",
       "1    Bhumika    Shelar  BS@gmail.com\n",
       "2    Kermeen     Deboo   K@gmail.com\n",
       "3      Gauri   Kumbhar  GK@gmail.com"
      ]
     },
     "execution_count": 12,
     "metadata": {},
     "output_type": "execute_result"
    }
   ],
   "source": [
    "df.columns=['first name','last name','email']\n",
    "df"
   ]
  },
  {
   "cell_type": "code",
   "execution_count": 14,
   "id": "a6bc6fed-84e9-4544-bee5-9efb87ab0892",
   "metadata": {},
   "outputs": [
    {
     "data": {
      "text/html": [
       "<div>\n",
       "<style scoped>\n",
       "    .dataframe tbody tr th:only-of-type {\n",
       "        vertical-align: middle;\n",
       "    }\n",
       "\n",
       "    .dataframe tbody tr th {\n",
       "        vertical-align: top;\n",
       "    }\n",
       "\n",
       "    .dataframe thead th {\n",
       "        text-align: right;\n",
       "    }\n",
       "</style>\n",
       "<table border=\"1\" class=\"dataframe\">\n",
       "  <thead>\n",
       "    <tr style=\"text-align: right;\">\n",
       "      <th></th>\n",
       "      <th>first_name</th>\n",
       "      <th>last_name</th>\n",
       "      <th>email</th>\n",
       "    </tr>\n",
       "  </thead>\n",
       "  <tbody>\n",
       "    <tr>\n",
       "      <th>0</th>\n",
       "      <td>Jyoti</td>\n",
       "      <td>Kumbhar</td>\n",
       "      <td>J@gmail.com</td>\n",
       "    </tr>\n",
       "    <tr>\n",
       "      <th>1</th>\n",
       "      <td>Bhumika</td>\n",
       "      <td>Shelar</td>\n",
       "      <td>BS@gmail.com</td>\n",
       "    </tr>\n",
       "    <tr>\n",
       "      <th>2</th>\n",
       "      <td>Kermeen</td>\n",
       "      <td>Deboo</td>\n",
       "      <td>K@gmail.com</td>\n",
       "    </tr>\n",
       "    <tr>\n",
       "      <th>3</th>\n",
       "      <td>Gauri</td>\n",
       "      <td>Kumbhar</td>\n",
       "      <td>GK@gmail.com</td>\n",
       "    </tr>\n",
       "  </tbody>\n",
       "</table>\n",
       "</div>"
      ],
      "text/plain": [
       "  first_name last_name         email\n",
       "0      Jyoti   Kumbhar   J@gmail.com\n",
       "1    Bhumika    Shelar  BS@gmail.com\n",
       "2    Kermeen     Deboo   K@gmail.com\n",
       "3      Gauri   Kumbhar  GK@gmail.com"
      ]
     },
     "execution_count": 14,
     "metadata": {},
     "output_type": "execute_result"
    }
   ],
   "source": [
    "## to remove spaces from column name\n",
    "df.columns=df.columns.str.replace(' ','_')\n",
    "df"
   ]
  },
  {
   "cell_type": "code",
   "execution_count": 15,
   "id": "90dc5f83-ffa4-468a-9672-8ae1657faa59",
   "metadata": {},
   "outputs": [
    {
     "data": {
      "text/html": [
       "<div>\n",
       "<style scoped>\n",
       "    .dataframe tbody tr th:only-of-type {\n",
       "        vertical-align: middle;\n",
       "    }\n",
       "\n",
       "    .dataframe tbody tr th {\n",
       "        vertical-align: top;\n",
       "    }\n",
       "\n",
       "    .dataframe thead th {\n",
       "        text-align: right;\n",
       "    }\n",
       "</style>\n",
       "<table border=\"1\" class=\"dataframe\">\n",
       "  <thead>\n",
       "    <tr style=\"text-align: right;\">\n",
       "      <th></th>\n",
       "      <th>first</th>\n",
       "      <th>last_name</th>\n",
       "      <th>Email</th>\n",
       "    </tr>\n",
       "  </thead>\n",
       "  <tbody>\n",
       "    <tr>\n",
       "      <th>0</th>\n",
       "      <td>Jyoti</td>\n",
       "      <td>Kumbhar</td>\n",
       "      <td>J@gmail.com</td>\n",
       "    </tr>\n",
       "    <tr>\n",
       "      <th>1</th>\n",
       "      <td>Bhumika</td>\n",
       "      <td>Shelar</td>\n",
       "      <td>BS@gmail.com</td>\n",
       "    </tr>\n",
       "    <tr>\n",
       "      <th>2</th>\n",
       "      <td>Kermeen</td>\n",
       "      <td>Deboo</td>\n",
       "      <td>K@gmail.com</td>\n",
       "    </tr>\n",
       "    <tr>\n",
       "      <th>3</th>\n",
       "      <td>Gauri</td>\n",
       "      <td>Kumbhar</td>\n",
       "      <td>GK@gmail.com</td>\n",
       "    </tr>\n",
       "  </tbody>\n",
       "</table>\n",
       "</div>"
      ],
      "text/plain": [
       "     first last_name         Email\n",
       "0    Jyoti   Kumbhar   J@gmail.com\n",
       "1  Bhumika    Shelar  BS@gmail.com\n",
       "2  Kermeen     Deboo   K@gmail.com\n",
       "3    Gauri   Kumbhar  GK@gmail.com"
      ]
     },
     "execution_count": 15,
     "metadata": {},
     "output_type": "execute_result"
    }
   ],
   "source": [
    "# used to replace the names of specific columns\n",
    "df.rename(columns={'first_name':'first', 'email':'Email'},inplace=True)\n",
    "df"
   ]
  },
  {
   "cell_type": "code",
   "execution_count": 21,
   "id": "f6de7ee3-9c2b-4a37-83c3-ee0d3d00edeb",
   "metadata": {},
   "outputs": [
    {
     "data": {
      "text/html": [
       "<div>\n",
       "<style scoped>\n",
       "    .dataframe tbody tr th:only-of-type {\n",
       "        vertical-align: middle;\n",
       "    }\n",
       "\n",
       "    .dataframe tbody tr th {\n",
       "        vertical-align: top;\n",
       "    }\n",
       "\n",
       "    .dataframe thead th {\n",
       "        text-align: right;\n",
       "    }\n",
       "</style>\n",
       "<table border=\"1\" class=\"dataframe\">\n",
       "  <thead>\n",
       "    <tr style=\"text-align: right;\">\n",
       "      <th></th>\n",
       "      <th>first</th>\n",
       "      <th>last_name</th>\n",
       "      <th>Email</th>\n",
       "    </tr>\n",
       "  </thead>\n",
       "  <tbody>\n",
       "    <tr>\n",
       "      <th>0</th>\n",
       "      <td>Jyoti</td>\n",
       "      <td>Kumbhar</td>\n",
       "      <td>Jyoti@gmail.com</td>\n",
       "    </tr>\n",
       "    <tr>\n",
       "      <th>1</th>\n",
       "      <td>Bhumika</td>\n",
       "      <td>Shelar</td>\n",
       "      <td>BS@gmail.com</td>\n",
       "    </tr>\n",
       "    <tr>\n",
       "      <th>2</th>\n",
       "      <td>Kermeen</td>\n",
       "      <td>Deboo</td>\n",
       "      <td>K@gmail.com</td>\n",
       "    </tr>\n",
       "    <tr>\n",
       "      <th>3</th>\n",
       "      <td>Gauri</td>\n",
       "      <td>Kumbhar</td>\n",
       "      <td>GK@gmail.com</td>\n",
       "    </tr>\n",
       "  </tbody>\n",
       "</table>\n",
       "</div>"
      ],
      "text/plain": [
       "     first last_name            Email\n",
       "0    Jyoti   Kumbhar  Jyoti@gmail.com\n",
       "1  Bhumika    Shelar     BS@gmail.com\n",
       "2  Kermeen     Deboo      K@gmail.com\n",
       "3    Gauri   Kumbhar     GK@gmail.com"
      ]
     },
     "execution_count": 21,
     "metadata": {},
     "output_type": "execute_result"
    }
   ],
   "source": [
    "# update specific data in an row\n",
    "df.loc[0,['Email']] = ['Jyoti@gmail.com']\n",
    "df"
   ]
  },
  {
   "cell_type": "code",
   "execution_count": 22,
   "id": "db3255cf-5b0f-48e2-9082-22dd48b9e8e6",
   "metadata": {},
   "outputs": [
    {
     "data": {
      "text/html": [
       "<div>\n",
       "<style scoped>\n",
       "    .dataframe tbody tr th:only-of-type {\n",
       "        vertical-align: middle;\n",
       "    }\n",
       "\n",
       "    .dataframe tbody tr th {\n",
       "        vertical-align: top;\n",
       "    }\n",
       "\n",
       "    .dataframe thead th {\n",
       "        text-align: right;\n",
       "    }\n",
       "</style>\n",
       "<table border=\"1\" class=\"dataframe\">\n",
       "  <thead>\n",
       "    <tr style=\"text-align: right;\">\n",
       "      <th></th>\n",
       "      <th>first</th>\n",
       "      <th>last_name</th>\n",
       "      <th>Email</th>\n",
       "    </tr>\n",
       "  </thead>\n",
       "  <tbody>\n",
       "    <tr>\n",
       "      <th>0</th>\n",
       "      <td>Jyoti</td>\n",
       "      <td>Kumbhar</td>\n",
       "      <td>Jyoti@gmail.com</td>\n",
       "    </tr>\n",
       "    <tr>\n",
       "      <th>1</th>\n",
       "      <td>Bhumika</td>\n",
       "      <td>Shelar</td>\n",
       "      <td>Bhumika@gmail.com</td>\n",
       "    </tr>\n",
       "    <tr>\n",
       "      <th>2</th>\n",
       "      <td>Kermeen</td>\n",
       "      <td>Deboo</td>\n",
       "      <td>K@gmail.com</td>\n",
       "    </tr>\n",
       "    <tr>\n",
       "      <th>3</th>\n",
       "      <td>Gauri</td>\n",
       "      <td>Kumbhar</td>\n",
       "      <td>GK@gmail.com</td>\n",
       "    </tr>\n",
       "  </tbody>\n",
       "</table>\n",
       "</div>"
      ],
      "text/plain": [
       "     first last_name              Email\n",
       "0    Jyoti   Kumbhar    Jyoti@gmail.com\n",
       "1  Bhumika    Shelar  Bhumika@gmail.com\n",
       "2  Kermeen     Deboo        K@gmail.com\n",
       "3    Gauri   Kumbhar       GK@gmail.com"
      ]
     },
     "execution_count": 22,
     "metadata": {},
     "output_type": "execute_result"
    }
   ],
   "source": [
    "## method2\n",
    "df.at[1,'Email'] = 'Bhumika@gmail.com'\n",
    "df"
   ]
  },
  {
   "cell_type": "code",
   "execution_count": 28,
   "id": "7b2a312f-19bb-46b9-9527-838cf8e05216",
   "metadata": {},
   "outputs": [
    {
     "data": {
      "text/html": [
       "<div>\n",
       "<style scoped>\n",
       "    .dataframe tbody tr th:only-of-type {\n",
       "        vertical-align: middle;\n",
       "    }\n",
       "\n",
       "    .dataframe tbody tr th {\n",
       "        vertical-align: top;\n",
       "    }\n",
       "\n",
       "    .dataframe thead th {\n",
       "        text-align: right;\n",
       "    }\n",
       "</style>\n",
       "<table border=\"1\" class=\"dataframe\">\n",
       "  <thead>\n",
       "    <tr style=\"text-align: right;\">\n",
       "      <th></th>\n",
       "      <th>first</th>\n",
       "      <th>last_name</th>\n",
       "      <th>Email</th>\n",
       "      <th>email</th>\n",
       "    </tr>\n",
       "  </thead>\n",
       "  <tbody>\n",
       "    <tr>\n",
       "      <th>0</th>\n",
       "      <td>Jyoti</td>\n",
       "      <td>Kumbhar</td>\n",
       "      <td>Jyoti@gmail.com</td>\n",
       "      <td>NaN</td>\n",
       "    </tr>\n",
       "    <tr>\n",
       "      <th>1</th>\n",
       "      <td>Bhumika</td>\n",
       "      <td>Shelar</td>\n",
       "      <td>Bhumika@gmail.com</td>\n",
       "      <td>NaN</td>\n",
       "    </tr>\n",
       "    <tr>\n",
       "      <th>2</th>\n",
       "      <td>Kermeen</td>\n",
       "      <td>Deboo</td>\n",
       "      <td>Kermeen@gmail.com</td>\n",
       "      <td>Kermeen@gmail.com</td>\n",
       "    </tr>\n",
       "    <tr>\n",
       "      <th>3</th>\n",
       "      <td>Gauri</td>\n",
       "      <td>Kumbhar</td>\n",
       "      <td>GK@gmail.com</td>\n",
       "      <td>NaN</td>\n",
       "    </tr>\n",
       "  </tbody>\n",
       "</table>\n",
       "</div>"
      ],
      "text/plain": [
       "     first last_name              Email              email\n",
       "0    Jyoti   Kumbhar    Jyoti@gmail.com                NaN\n",
       "1  Bhumika    Shelar  Bhumika@gmail.com                NaN\n",
       "2  Kermeen     Deboo  Kermeen@gmail.com  Kermeen@gmail.com\n",
       "3    Gauri   Kumbhar       GK@gmail.com                NaN"
      ]
     },
     "execution_count": 28,
     "metadata": {},
     "output_type": "execute_result"
    }
   ],
   "source": [
    "## method3\n",
    "filt = (df['first']=='Kermeen')\n",
    "df.loc[filt,'Email']='Kermeen@gmail.com'\n",
    "df"
   ]
  },
  {
   "cell_type": "code",
   "execution_count": 30,
   "id": "e7bd4358-7a3c-403f-8888-84549bcdb651",
   "metadata": {},
   "outputs": [
    {
     "data": {
      "text/html": [
       "<div>\n",
       "<style scoped>\n",
       "    .dataframe tbody tr th:only-of-type {\n",
       "        vertical-align: middle;\n",
       "    }\n",
       "\n",
       "    .dataframe tbody tr th {\n",
       "        vertical-align: top;\n",
       "    }\n",
       "\n",
       "    .dataframe thead th {\n",
       "        text-align: right;\n",
       "    }\n",
       "</style>\n",
       "<table border=\"1\" class=\"dataframe\">\n",
       "  <thead>\n",
       "    <tr style=\"text-align: right;\">\n",
       "      <th></th>\n",
       "      <th>first</th>\n",
       "      <th>last_name</th>\n",
       "      <th>Email</th>\n",
       "      <th>email</th>\n",
       "    </tr>\n",
       "  </thead>\n",
       "  <tbody>\n",
       "    <tr>\n",
       "      <th>0</th>\n",
       "      <td>jyoti</td>\n",
       "      <td>Kumbhar</td>\n",
       "      <td>Jyoti@gmail.com</td>\n",
       "      <td>NaN</td>\n",
       "    </tr>\n",
       "    <tr>\n",
       "      <th>1</th>\n",
       "      <td>bhumika</td>\n",
       "      <td>Shelar</td>\n",
       "      <td>Bhumika@gmail.com</td>\n",
       "      <td>NaN</td>\n",
       "    </tr>\n",
       "    <tr>\n",
       "      <th>2</th>\n",
       "      <td>kermeen</td>\n",
       "      <td>Deboo</td>\n",
       "      <td>Kermeen@gmail.com</td>\n",
       "      <td>Kermeen@gmail.com</td>\n",
       "    </tr>\n",
       "    <tr>\n",
       "      <th>3</th>\n",
       "      <td>gauri</td>\n",
       "      <td>Kumbhar</td>\n",
       "      <td>GK@gmail.com</td>\n",
       "      <td>NaN</td>\n",
       "    </tr>\n",
       "  </tbody>\n",
       "</table>\n",
       "</div>"
      ],
      "text/plain": [
       "     first last_name              Email              email\n",
       "0    jyoti   Kumbhar    Jyoti@gmail.com                NaN\n",
       "1  bhumika    Shelar  Bhumika@gmail.com                NaN\n",
       "2  kermeen     Deboo  Kermeen@gmail.com  Kermeen@gmail.com\n",
       "3    gauri   Kumbhar       GK@gmail.com                NaN"
      ]
     },
     "execution_count": 30,
     "metadata": {},
     "output_type": "execute_result"
    }
   ],
   "source": [
    "# change mulitple rows at once\n",
    "df['first'] = df['first'].str.lower()\n",
    "df"
   ]
  },
  {
   "cell_type": "code",
   "execution_count": 31,
   "id": "4688ea81-df72-4926-8af6-e2ab58096c32",
   "metadata": {},
   "outputs": [
    {
     "data": {
      "text/plain": [
       "0    15\n",
       "1    17\n",
       "2    17\n",
       "3    12\n",
       "Name: Email, dtype: int64"
      ]
     },
     "execution_count": 31,
     "metadata": {},
     "output_type": "execute_result"
    }
   ],
   "source": [
    "#apply using on series\n",
    "df['Email'].apply(len)"
   ]
  },
  {
   "cell_type": "code",
   "execution_count": 32,
   "id": "f6e91746-94bb-45f5-ba87-ec3dd3900534",
   "metadata": {},
   "outputs": [],
   "source": [
    "def update_email(email):\n",
    "    return email.upper()"
   ]
  },
  {
   "cell_type": "code",
   "execution_count": 34,
   "id": "7b45f549-69ff-4f3f-be62-1bf9c708f632",
   "metadata": {},
   "outputs": [
    {
     "data": {
      "text/plain": [
       "0      JYOTI@GMAIL.COM\n",
       "1    BHUMIKA@GMAIL.COM\n",
       "2    KERMEEN@GMAIL.COM\n",
       "3         GK@GMAIL.COM\n",
       "Name: Email, dtype: object"
      ]
     },
     "execution_count": 34,
     "metadata": {},
     "output_type": "execute_result"
    }
   ],
   "source": [
    "df['Email'].apply(update_email)"
   ]
  },
  {
   "cell_type": "code",
   "execution_count": 35,
   "id": "a04b4f18-de45-45af-8e45-dcaab99d17ee",
   "metadata": {},
   "outputs": [
    {
     "data": {
      "text/html": [
       "<div>\n",
       "<style scoped>\n",
       "    .dataframe tbody tr th:only-of-type {\n",
       "        vertical-align: middle;\n",
       "    }\n",
       "\n",
       "    .dataframe tbody tr th {\n",
       "        vertical-align: top;\n",
       "    }\n",
       "\n",
       "    .dataframe thead th {\n",
       "        text-align: right;\n",
       "    }\n",
       "</style>\n",
       "<table border=\"1\" class=\"dataframe\">\n",
       "  <thead>\n",
       "    <tr style=\"text-align: right;\">\n",
       "      <th></th>\n",
       "      <th>first</th>\n",
       "      <th>last_name</th>\n",
       "      <th>Email</th>\n",
       "      <th>email</th>\n",
       "    </tr>\n",
       "  </thead>\n",
       "  <tbody>\n",
       "    <tr>\n",
       "      <th>0</th>\n",
       "      <td>jyoti</td>\n",
       "      <td>Kumbhar</td>\n",
       "      <td>Jyoti@gmail.com</td>\n",
       "      <td>NaN</td>\n",
       "    </tr>\n",
       "    <tr>\n",
       "      <th>1</th>\n",
       "      <td>bhumika</td>\n",
       "      <td>Shelar</td>\n",
       "      <td>Bhumika@gmail.com</td>\n",
       "      <td>NaN</td>\n",
       "    </tr>\n",
       "    <tr>\n",
       "      <th>2</th>\n",
       "      <td>kermeen</td>\n",
       "      <td>Deboo</td>\n",
       "      <td>Kermeen@gmail.com</td>\n",
       "      <td>Kermeen@gmail.com</td>\n",
       "    </tr>\n",
       "    <tr>\n",
       "      <th>3</th>\n",
       "      <td>gauri</td>\n",
       "      <td>Kumbhar</td>\n",
       "      <td>GK@gmail.com</td>\n",
       "      <td>NaN</td>\n",
       "    </tr>\n",
       "  </tbody>\n",
       "</table>\n",
       "</div>"
      ],
      "text/plain": [
       "     first last_name              Email              email\n",
       "0    jyoti   Kumbhar    Jyoti@gmail.com                NaN\n",
       "1  bhumika    Shelar  Bhumika@gmail.com                NaN\n",
       "2  kermeen     Deboo  Kermeen@gmail.com  Kermeen@gmail.com\n",
       "3    gauri   Kumbhar       GK@gmail.com                NaN"
      ]
     },
     "execution_count": 35,
     "metadata": {},
     "output_type": "execute_result"
    }
   ],
   "source": [
    "df"
   ]
  },
  {
   "cell_type": "code",
   "execution_count": 36,
   "id": "15980ce3-4328-4da9-b808-60a534971047",
   "metadata": {},
   "outputs": [
    {
     "data": {
      "text/html": [
       "<div>\n",
       "<style scoped>\n",
       "    .dataframe tbody tr th:only-of-type {\n",
       "        vertical-align: middle;\n",
       "    }\n",
       "\n",
       "    .dataframe tbody tr th {\n",
       "        vertical-align: top;\n",
       "    }\n",
       "\n",
       "    .dataframe thead th {\n",
       "        text-align: right;\n",
       "    }\n",
       "</style>\n",
       "<table border=\"1\" class=\"dataframe\">\n",
       "  <thead>\n",
       "    <tr style=\"text-align: right;\">\n",
       "      <th></th>\n",
       "      <th>first</th>\n",
       "      <th>last_name</th>\n",
       "      <th>Email</th>\n",
       "      <th>email</th>\n",
       "    </tr>\n",
       "  </thead>\n",
       "  <tbody>\n",
       "    <tr>\n",
       "      <th>0</th>\n",
       "      <td>jyoti</td>\n",
       "      <td>Kumbhar</td>\n",
       "      <td>JYOTI@GMAIL.COM</td>\n",
       "      <td>NaN</td>\n",
       "    </tr>\n",
       "    <tr>\n",
       "      <th>1</th>\n",
       "      <td>bhumika</td>\n",
       "      <td>Shelar</td>\n",
       "      <td>BHUMIKA@GMAIL.COM</td>\n",
       "      <td>NaN</td>\n",
       "    </tr>\n",
       "    <tr>\n",
       "      <th>2</th>\n",
       "      <td>kermeen</td>\n",
       "      <td>Deboo</td>\n",
       "      <td>KERMEEN@GMAIL.COM</td>\n",
       "      <td>Kermeen@gmail.com</td>\n",
       "    </tr>\n",
       "    <tr>\n",
       "      <th>3</th>\n",
       "      <td>gauri</td>\n",
       "      <td>Kumbhar</td>\n",
       "      <td>GK@GMAIL.COM</td>\n",
       "      <td>NaN</td>\n",
       "    </tr>\n",
       "  </tbody>\n",
       "</table>\n",
       "</div>"
      ],
      "text/plain": [
       "     first last_name              Email              email\n",
       "0    jyoti   Kumbhar    JYOTI@GMAIL.COM                NaN\n",
       "1  bhumika    Shelar  BHUMIKA@GMAIL.COM                NaN\n",
       "2  kermeen     Deboo  KERMEEN@GMAIL.COM  Kermeen@gmail.com\n",
       "3    gauri   Kumbhar       GK@GMAIL.COM                NaN"
      ]
     },
     "execution_count": 36,
     "metadata": {},
     "output_type": "execute_result"
    }
   ],
   "source": [
    "df['Email']=df['Email'].apply(update_email)\n",
    "df"
   ]
  },
  {
   "cell_type": "code",
   "execution_count": 37,
   "id": "4410d3c1-c4a3-4d6c-bd71-1e78f2da8a23",
   "metadata": {},
   "outputs": [
    {
     "data": {
      "text/html": [
       "<div>\n",
       "<style scoped>\n",
       "    .dataframe tbody tr th:only-of-type {\n",
       "        vertical-align: middle;\n",
       "    }\n",
       "\n",
       "    .dataframe tbody tr th {\n",
       "        vertical-align: top;\n",
       "    }\n",
       "\n",
       "    .dataframe thead th {\n",
       "        text-align: right;\n",
       "    }\n",
       "</style>\n",
       "<table border=\"1\" class=\"dataframe\">\n",
       "  <thead>\n",
       "    <tr style=\"text-align: right;\">\n",
       "      <th></th>\n",
       "      <th>first</th>\n",
       "      <th>last_name</th>\n",
       "      <th>Email</th>\n",
       "      <th>email</th>\n",
       "    </tr>\n",
       "  </thead>\n",
       "  <tbody>\n",
       "    <tr>\n",
       "      <th>0</th>\n",
       "      <td>jyoti</td>\n",
       "      <td>Kumbhar</td>\n",
       "      <td>jyoti@gmail.com</td>\n",
       "      <td>NaN</td>\n",
       "    </tr>\n",
       "    <tr>\n",
       "      <th>1</th>\n",
       "      <td>bhumika</td>\n",
       "      <td>Shelar</td>\n",
       "      <td>bhumika@gmail.com</td>\n",
       "      <td>NaN</td>\n",
       "    </tr>\n",
       "    <tr>\n",
       "      <th>2</th>\n",
       "      <td>kermeen</td>\n",
       "      <td>Deboo</td>\n",
       "      <td>kermeen@gmail.com</td>\n",
       "      <td>Kermeen@gmail.com</td>\n",
       "    </tr>\n",
       "    <tr>\n",
       "      <th>3</th>\n",
       "      <td>gauri</td>\n",
       "      <td>Kumbhar</td>\n",
       "      <td>gk@gmail.com</td>\n",
       "      <td>NaN</td>\n",
       "    </tr>\n",
       "  </tbody>\n",
       "</table>\n",
       "</div>"
      ],
      "text/plain": [
       "     first last_name              Email              email\n",
       "0    jyoti   Kumbhar    jyoti@gmail.com                NaN\n",
       "1  bhumika    Shelar  bhumika@gmail.com                NaN\n",
       "2  kermeen     Deboo  kermeen@gmail.com  Kermeen@gmail.com\n",
       "3    gauri   Kumbhar       gk@gmail.com                NaN"
      ]
     },
     "execution_count": 37,
     "metadata": {},
     "output_type": "execute_result"
    }
   ],
   "source": [
    "#another method to do same task\n",
    "df['Email']=df['Email'].apply(lambda x:x.lower())\n",
    "df"
   ]
  },
  {
   "cell_type": "code",
   "execution_count": 40,
   "id": "358ef7be-9a57-47eb-99fd-6d0a750293cc",
   "metadata": {},
   "outputs": [
    {
     "data": {
      "text/plain": [
       "first        4\n",
       "last_name    4\n",
       "Email        4\n",
       "email        4\n",
       "dtype: int64"
      ]
     },
     "execution_count": 40,
     "metadata": {},
     "output_type": "execute_result"
    }
   ],
   "source": [
    "#apply using on data frame\n",
    "\n",
    "#default axis is rows\n",
    "df.apply(len)"
   ]
  },
  {
   "cell_type": "code",
   "execution_count": 41,
   "id": "e6630712-b1e7-4852-b8f9-b809ad68721d",
   "metadata": {},
   "outputs": [
    {
     "data": {
      "text/plain": [
       "0    4\n",
       "1    4\n",
       "2    4\n",
       "3    4\n",
       "dtype: int64"
      ]
     },
     "execution_count": 41,
     "metadata": {},
     "output_type": "execute_result"
    }
   ],
   "source": [
    "df.apply(len, axis='columns')"
   ]
  },
  {
   "cell_type": "code",
   "execution_count": null,
   "id": "97e9da3a-c36e-4d1f-943d-7ba47054a6e1",
   "metadata": {},
   "outputs": [],
   "source": [
    "#applymap\n",
    "df.applymap(len)\n",
    "df.applymap(str.lower)"
   ]
  },
  {
   "cell_type": "code",
   "execution_count": 50,
   "id": "0e750e95-4513-43ac-8173-e3ad47663406",
   "metadata": {},
   "outputs": [
    {
     "data": {
      "text/plain": [
       "0      J\n",
       "1      B\n",
       "2    NaN\n",
       "3    NaN\n",
       "Name: first, dtype: object"
      ]
     },
     "execution_count": 50,
     "metadata": {},
     "output_type": "execute_result"
    }
   ],
   "source": [
    "df['first'].map({'jyoti':'J','bhumika':'B'})"
   ]
  },
  {
   "cell_type": "code",
   "execution_count": 51,
   "id": "02ca1c3d-1181-45ca-9003-e41e56475571",
   "metadata": {},
   "outputs": [
    {
     "data": {
      "text/plain": [
       "0          J\n",
       "1          B\n",
       "2    kermeen\n",
       "3      gauri\n",
       "Name: first, dtype: object"
      ]
     },
     "execution_count": 51,
     "metadata": {},
     "output_type": "execute_result"
    }
   ],
   "source": [
    "df['first'].replace({'jyoti':'J','bhumika':'B'})"
   ]
  },
  {
   "cell_type": "code",
   "execution_count": 52,
   "id": "192d9b62-e069-4c30-a08a-1979edc9cadb",
   "metadata": {},
   "outputs": [
    {
     "data": {
      "text/html": [
       "<div>\n",
       "<style scoped>\n",
       "    .dataframe tbody tr th:only-of-type {\n",
       "        vertical-align: middle;\n",
       "    }\n",
       "\n",
       "    .dataframe tbody tr th {\n",
       "        vertical-align: top;\n",
       "    }\n",
       "\n",
       "    .dataframe thead th {\n",
       "        text-align: right;\n",
       "    }\n",
       "</style>\n",
       "<table border=\"1\" class=\"dataframe\">\n",
       "  <thead>\n",
       "    <tr style=\"text-align: right;\">\n",
       "      <th></th>\n",
       "      <th>first</th>\n",
       "      <th>last_name</th>\n",
       "      <th>Email</th>\n",
       "      <th>email</th>\n",
       "    </tr>\n",
       "  </thead>\n",
       "  <tbody>\n",
       "    <tr>\n",
       "      <th>0</th>\n",
       "      <td>jyoti</td>\n",
       "      <td>Kumbhar</td>\n",
       "      <td>jyoti@gmail.com</td>\n",
       "      <td>NaN</td>\n",
       "    </tr>\n",
       "    <tr>\n",
       "      <th>1</th>\n",
       "      <td>bhumika</td>\n",
       "      <td>Shelar</td>\n",
       "      <td>bhumika@gmail.com</td>\n",
       "      <td>NaN</td>\n",
       "    </tr>\n",
       "    <tr>\n",
       "      <th>2</th>\n",
       "      <td>kermeen</td>\n",
       "      <td>Deboo</td>\n",
       "      <td>kermeen@gmail.com</td>\n",
       "      <td>Kermeen@gmail.com</td>\n",
       "    </tr>\n",
       "    <tr>\n",
       "      <th>3</th>\n",
       "      <td>gauri</td>\n",
       "      <td>Kumbhar</td>\n",
       "      <td>gk@gmail.com</td>\n",
       "      <td>NaN</td>\n",
       "    </tr>\n",
       "  </tbody>\n",
       "</table>\n",
       "</div>"
      ],
      "text/plain": [
       "     first last_name              Email              email\n",
       "0    jyoti   Kumbhar    jyoti@gmail.com                NaN\n",
       "1  bhumika    Shelar  bhumika@gmail.com                NaN\n",
       "2  kermeen     Deboo  kermeen@gmail.com  Kermeen@gmail.com\n",
       "3    gauri   Kumbhar       gk@gmail.com                NaN"
      ]
     },
     "execution_count": 52,
     "metadata": {},
     "output_type": "execute_result"
    }
   ],
   "source": [
    "df"
   ]
  },
  {
   "cell_type": "code",
   "execution_count": 53,
   "id": "258694d1-5a26-4b9e-82ea-b758ca977b6a",
   "metadata": {},
   "outputs": [],
   "source": [
    "df['first']=df['first'].replace({'jyoti':'J','bhumika':'B'})"
   ]
  },
  {
   "cell_type": "code",
   "execution_count": 54,
   "id": "51ea77f5-644f-47e7-945d-35d5137cd037",
   "metadata": {},
   "outputs": [
    {
     "data": {
      "text/html": [
       "<div>\n",
       "<style scoped>\n",
       "    .dataframe tbody tr th:only-of-type {\n",
       "        vertical-align: middle;\n",
       "    }\n",
       "\n",
       "    .dataframe tbody tr th {\n",
       "        vertical-align: top;\n",
       "    }\n",
       "\n",
       "    .dataframe thead th {\n",
       "        text-align: right;\n",
       "    }\n",
       "</style>\n",
       "<table border=\"1\" class=\"dataframe\">\n",
       "  <thead>\n",
       "    <tr style=\"text-align: right;\">\n",
       "      <th></th>\n",
       "      <th>first</th>\n",
       "      <th>last_name</th>\n",
       "      <th>Email</th>\n",
       "      <th>email</th>\n",
       "    </tr>\n",
       "  </thead>\n",
       "  <tbody>\n",
       "    <tr>\n",
       "      <th>0</th>\n",
       "      <td>J</td>\n",
       "      <td>Kumbhar</td>\n",
       "      <td>jyoti@gmail.com</td>\n",
       "      <td>NaN</td>\n",
       "    </tr>\n",
       "    <tr>\n",
       "      <th>1</th>\n",
       "      <td>B</td>\n",
       "      <td>Shelar</td>\n",
       "      <td>bhumika@gmail.com</td>\n",
       "      <td>NaN</td>\n",
       "    </tr>\n",
       "    <tr>\n",
       "      <th>2</th>\n",
       "      <td>kermeen</td>\n",
       "      <td>Deboo</td>\n",
       "      <td>kermeen@gmail.com</td>\n",
       "      <td>Kermeen@gmail.com</td>\n",
       "    </tr>\n",
       "    <tr>\n",
       "      <th>3</th>\n",
       "      <td>gauri</td>\n",
       "      <td>Kumbhar</td>\n",
       "      <td>gk@gmail.com</td>\n",
       "      <td>NaN</td>\n",
       "    </tr>\n",
       "  </tbody>\n",
       "</table>\n",
       "</div>"
      ],
      "text/plain": [
       "     first last_name              Email              email\n",
       "0        J   Kumbhar    jyoti@gmail.com                NaN\n",
       "1        B    Shelar  bhumika@gmail.com                NaN\n",
       "2  kermeen     Deboo  kermeen@gmail.com  Kermeen@gmail.com\n",
       "3    gauri   Kumbhar       gk@gmail.com                NaN"
      ]
     },
     "execution_count": 54,
     "metadata": {},
     "output_type": "execute_result"
    }
   ],
   "source": [
    "df"
   ]
  },
  {
   "cell_type": "code",
   "execution_count": 55,
   "id": "3b682e9c-ee66-4c02-8fd5-84c9ce9fb63f",
   "metadata": {},
   "outputs": [],
   "source": [
    "#demo6"
   ]
  },
  {
   "cell_type": "code",
   "execution_count": 60,
   "id": "e3246a66-3015-4566-93a8-adb5a77e2bb8",
   "metadata": {},
   "outputs": [
    {
     "data": {
      "text/html": [
       "<div>\n",
       "<style scoped>\n",
       "    .dataframe tbody tr th:only-of-type {\n",
       "        vertical-align: middle;\n",
       "    }\n",
       "\n",
       "    .dataframe tbody tr th {\n",
       "        vertical-align: top;\n",
       "    }\n",
       "\n",
       "    .dataframe thead th {\n",
       "        text-align: right;\n",
       "    }\n",
       "</style>\n",
       "<table border=\"1\" class=\"dataframe\">\n",
       "  <thead>\n",
       "    <tr style=\"text-align: right;\">\n",
       "      <th></th>\n",
       "      <th>first</th>\n",
       "      <th>last_name</th>\n",
       "      <th>Email</th>\n",
       "      <th>email</th>\n",
       "      <th>Name</th>\n",
       "    </tr>\n",
       "  </thead>\n",
       "  <tbody>\n",
       "    <tr>\n",
       "      <th>0</th>\n",
       "      <td>J</td>\n",
       "      <td>Kumbhar</td>\n",
       "      <td>jyoti@gmail.com</td>\n",
       "      <td>NaN</td>\n",
       "      <td>J Kumbhar</td>\n",
       "    </tr>\n",
       "    <tr>\n",
       "      <th>1</th>\n",
       "      <td>B</td>\n",
       "      <td>Shelar</td>\n",
       "      <td>bhumika@gmail.com</td>\n",
       "      <td>NaN</td>\n",
       "      <td>B Shelar</td>\n",
       "    </tr>\n",
       "    <tr>\n",
       "      <th>2</th>\n",
       "      <td>kermeen</td>\n",
       "      <td>Deboo</td>\n",
       "      <td>kermeen@gmail.com</td>\n",
       "      <td>Kermeen@gmail.com</td>\n",
       "      <td>kermeen Deboo</td>\n",
       "    </tr>\n",
       "    <tr>\n",
       "      <th>3</th>\n",
       "      <td>gauri</td>\n",
       "      <td>Kumbhar</td>\n",
       "      <td>gk@gmail.com</td>\n",
       "      <td>NaN</td>\n",
       "      <td>gauri Kumbhar</td>\n",
       "    </tr>\n",
       "  </tbody>\n",
       "</table>\n",
       "</div>"
      ],
      "text/plain": [
       "     first last_name              Email              email           Name\n",
       "0        J   Kumbhar    jyoti@gmail.com                NaN      J Kumbhar\n",
       "1        B    Shelar  bhumika@gmail.com                NaN       B Shelar\n",
       "2  kermeen     Deboo  kermeen@gmail.com  Kermeen@gmail.com  kermeen Deboo\n",
       "3    gauri   Kumbhar       gk@gmail.com                NaN  gauri Kumbhar"
      ]
     },
     "execution_count": 60,
     "metadata": {},
     "output_type": "execute_result"
    }
   ],
   "source": [
    "#combining two columns\n",
    "df['Name']=df['first']+' '+df['last_name']\n",
    "df"
   ]
  },
  {
   "cell_type": "code",
   "execution_count": null,
   "id": "5e7afa0d-2beb-4579-afaa-8f0fb939361e",
   "metadata": {},
   "outputs": [],
   "source": [
    "#remove an column\n",
    "df = df.drop(columns=['first','last_name','Email'])"
   ]
  },
  {
   "cell_type": "code",
   "execution_count": 86,
   "id": "9fb91232-ee11-456d-873e-e11ee1d7d88d",
   "metadata": {},
   "outputs": [
    {
     "data": {
      "text/html": [
       "<div>\n",
       "<style scoped>\n",
       "    .dataframe tbody tr th:only-of-type {\n",
       "        vertical-align: middle;\n",
       "    }\n",
       "\n",
       "    .dataframe tbody tr th {\n",
       "        vertical-align: top;\n",
       "    }\n",
       "\n",
       "    .dataframe thead th {\n",
       "        text-align: right;\n",
       "    }\n",
       "</style>\n",
       "<table border=\"1\" class=\"dataframe\">\n",
       "  <thead>\n",
       "    <tr style=\"text-align: right;\">\n",
       "      <th></th>\n",
       "      <th>EMAIL</th>\n",
       "      <th>NAME</th>\n",
       "    </tr>\n",
       "  </thead>\n",
       "  <tbody>\n",
       "    <tr>\n",
       "      <th>0</th>\n",
       "      <td>jyoti@gmail.com</td>\n",
       "      <td>J Kumbhar</td>\n",
       "    </tr>\n",
       "    <tr>\n",
       "      <th>1</th>\n",
       "      <td>bhumika@gmail.com</td>\n",
       "      <td>B Shelar</td>\n",
       "    </tr>\n",
       "    <tr>\n",
       "      <th>2</th>\n",
       "      <td>kermeen@gmail.com</td>\n",
       "      <td>kermeen Deboo</td>\n",
       "    </tr>\n",
       "    <tr>\n",
       "      <th>3</th>\n",
       "      <td>gk@gmail.com</td>\n",
       "      <td>gauri Kumbhar</td>\n",
       "    </tr>\n",
       "  </tbody>\n",
       "</table>\n",
       "</div>"
      ],
      "text/plain": [
       "               EMAIL           NAME\n",
       "0    jyoti@gmail.com      J Kumbhar\n",
       "1  bhumika@gmail.com       B Shelar\n",
       "2  kermeen@gmail.com  kermeen Deboo\n",
       "3       gk@gmail.com  gauri Kumbhar"
      ]
     },
     "execution_count": 86,
     "metadata": {},
     "output_type": "execute_result"
    }
   ],
   "source": [
    "df.columns=[x.upper() for x in df.columns]\n",
    "df"
   ]
  },
  {
   "cell_type": "code",
   "execution_count": 87,
   "id": "0b37b109-2005-4053-bc69-d18c9279ae43",
   "metadata": {},
   "outputs": [
    {
     "data": {
      "text/html": [
       "<div>\n",
       "<style scoped>\n",
       "    .dataframe tbody tr th:only-of-type {\n",
       "        vertical-align: middle;\n",
       "    }\n",
       "\n",
       "    .dataframe tbody tr th {\n",
       "        vertical-align: top;\n",
       "    }\n",
       "\n",
       "    .dataframe thead th {\n",
       "        text-align: right;\n",
       "    }\n",
       "</style>\n",
       "<table border=\"1\" class=\"dataframe\">\n",
       "  <thead>\n",
       "    <tr style=\"text-align: right;\">\n",
       "      <th></th>\n",
       "      <th>0</th>\n",
       "      <th>1</th>\n",
       "    </tr>\n",
       "  </thead>\n",
       "  <tbody>\n",
       "    <tr>\n",
       "      <th>0</th>\n",
       "      <td>J</td>\n",
       "      <td>Kumbhar</td>\n",
       "    </tr>\n",
       "    <tr>\n",
       "      <th>1</th>\n",
       "      <td>B</td>\n",
       "      <td>Shelar</td>\n",
       "    </tr>\n",
       "    <tr>\n",
       "      <th>2</th>\n",
       "      <td>kermeen</td>\n",
       "      <td>Deboo</td>\n",
       "    </tr>\n",
       "    <tr>\n",
       "      <th>3</th>\n",
       "      <td>gauri</td>\n",
       "      <td>Kumbhar</td>\n",
       "    </tr>\n",
       "  </tbody>\n",
       "</table>\n",
       "</div>"
      ],
      "text/plain": [
       "         0        1\n",
       "0        J  Kumbhar\n",
       "1        B   Shelar\n",
       "2  kermeen    Deboo\n",
       "3    gauri  Kumbhar"
      ]
     },
     "execution_count": 87,
     "metadata": {},
     "output_type": "execute_result"
    }
   ],
   "source": [
    "#splitting a column\n",
    "df['NAME'].str.split(' ', expand=True)"
   ]
  },
  {
   "cell_type": "code",
   "execution_count": 88,
   "id": "81953306-2400-4f4e-a4c8-b1db8cec9b2e",
   "metadata": {},
   "outputs": [],
   "source": [
    "df[['first','last']]=df['NAME'].str.split(' ', expand=True)"
   ]
  },
  {
   "cell_type": "code",
   "execution_count": 89,
   "id": "10901ee0-754b-4ba7-90f1-3dc7284fc025",
   "metadata": {},
   "outputs": [
    {
     "data": {
      "text/html": [
       "<div>\n",
       "<style scoped>\n",
       "    .dataframe tbody tr th:only-of-type {\n",
       "        vertical-align: middle;\n",
       "    }\n",
       "\n",
       "    .dataframe tbody tr th {\n",
       "        vertical-align: top;\n",
       "    }\n",
       "\n",
       "    .dataframe thead th {\n",
       "        text-align: right;\n",
       "    }\n",
       "</style>\n",
       "<table border=\"1\" class=\"dataframe\">\n",
       "  <thead>\n",
       "    <tr style=\"text-align: right;\">\n",
       "      <th></th>\n",
       "      <th>EMAIL</th>\n",
       "      <th>NAME</th>\n",
       "      <th>first</th>\n",
       "      <th>last</th>\n",
       "    </tr>\n",
       "  </thead>\n",
       "  <tbody>\n",
       "    <tr>\n",
       "      <th>0</th>\n",
       "      <td>jyoti@gmail.com</td>\n",
       "      <td>J Kumbhar</td>\n",
       "      <td>J</td>\n",
       "      <td>Kumbhar</td>\n",
       "    </tr>\n",
       "    <tr>\n",
       "      <th>1</th>\n",
       "      <td>bhumika@gmail.com</td>\n",
       "      <td>B Shelar</td>\n",
       "      <td>B</td>\n",
       "      <td>Shelar</td>\n",
       "    </tr>\n",
       "    <tr>\n",
       "      <th>2</th>\n",
       "      <td>kermeen@gmail.com</td>\n",
       "      <td>kermeen Deboo</td>\n",
       "      <td>kermeen</td>\n",
       "      <td>Deboo</td>\n",
       "    </tr>\n",
       "    <tr>\n",
       "      <th>3</th>\n",
       "      <td>gk@gmail.com</td>\n",
       "      <td>gauri Kumbhar</td>\n",
       "      <td>gauri</td>\n",
       "      <td>Kumbhar</td>\n",
       "    </tr>\n",
       "  </tbody>\n",
       "</table>\n",
       "</div>"
      ],
      "text/plain": [
       "               EMAIL           NAME    first     last\n",
       "0    jyoti@gmail.com      J Kumbhar        J  Kumbhar\n",
       "1  bhumika@gmail.com       B Shelar        B   Shelar\n",
       "2  kermeen@gmail.com  kermeen Deboo  kermeen    Deboo\n",
       "3       gk@gmail.com  gauri Kumbhar    gauri  Kumbhar"
      ]
     },
     "execution_count": 89,
     "metadata": {},
     "output_type": "execute_result"
    }
   ],
   "source": [
    "df"
   ]
  },
  {
   "cell_type": "code",
   "execution_count": 90,
   "id": "09d4a298-cee4-4d76-b756-2f5a0b77ff24",
   "metadata": {},
   "outputs": [
    {
     "data": {
      "text/html": [
       "<div>\n",
       "<style scoped>\n",
       "    .dataframe tbody tr th:only-of-type {\n",
       "        vertical-align: middle;\n",
       "    }\n",
       "\n",
       "    .dataframe tbody tr th {\n",
       "        vertical-align: top;\n",
       "    }\n",
       "\n",
       "    .dataframe thead th {\n",
       "        text-align: right;\n",
       "    }\n",
       "</style>\n",
       "<table border=\"1\" class=\"dataframe\">\n",
       "  <thead>\n",
       "    <tr style=\"text-align: right;\">\n",
       "      <th></th>\n",
       "      <th>email</th>\n",
       "      <th>name</th>\n",
       "      <th>first</th>\n",
       "      <th>last</th>\n",
       "    </tr>\n",
       "  </thead>\n",
       "  <tbody>\n",
       "    <tr>\n",
       "      <th>0</th>\n",
       "      <td>jyoti@gmail.com</td>\n",
       "      <td>J Kumbhar</td>\n",
       "      <td>J</td>\n",
       "      <td>Kumbhar</td>\n",
       "    </tr>\n",
       "    <tr>\n",
       "      <th>1</th>\n",
       "      <td>bhumika@gmail.com</td>\n",
       "      <td>B Shelar</td>\n",
       "      <td>B</td>\n",
       "      <td>Shelar</td>\n",
       "    </tr>\n",
       "    <tr>\n",
       "      <th>2</th>\n",
       "      <td>kermeen@gmail.com</td>\n",
       "      <td>kermeen Deboo</td>\n",
       "      <td>kermeen</td>\n",
       "      <td>Deboo</td>\n",
       "    </tr>\n",
       "    <tr>\n",
       "      <th>3</th>\n",
       "      <td>gk@gmail.com</td>\n",
       "      <td>gauri Kumbhar</td>\n",
       "      <td>gauri</td>\n",
       "      <td>Kumbhar</td>\n",
       "    </tr>\n",
       "  </tbody>\n",
       "</table>\n",
       "</div>"
      ],
      "text/plain": [
       "               email           name    first     last\n",
       "0    jyoti@gmail.com      J Kumbhar        J  Kumbhar\n",
       "1  bhumika@gmail.com       B Shelar        B   Shelar\n",
       "2  kermeen@gmail.com  kermeen Deboo  kermeen    Deboo\n",
       "3       gk@gmail.com  gauri Kumbhar    gauri  Kumbhar"
      ]
     },
     "execution_count": 90,
     "metadata": {},
     "output_type": "execute_result"
    }
   ],
   "source": [
    "df.columns=[x.lower() for x in df.columns]\n",
    "df"
   ]
  },
  {
   "cell_type": "code",
   "execution_count": 94,
   "id": "c5eed5b0-36bc-4d03-bd7c-7512aa4fe861",
   "metadata": {},
   "outputs": [],
   "source": [
    "#adding a new data\n",
    "new_row = pd.DataFrame([{'first': 'Tony','last':'Stark'}])\n",
    "\n",
    "# Use pd.concat() to append\n",
    "df = pd.concat([df, new_row], ignore_index=True)"
   ]
  },
  {
   "cell_type": "code",
   "execution_count": 95,
   "id": "0074195e-d77f-46e5-8f56-eed5b8c86713",
   "metadata": {},
   "outputs": [
    {
     "data": {
      "text/html": [
       "<div>\n",
       "<style scoped>\n",
       "    .dataframe tbody tr th:only-of-type {\n",
       "        vertical-align: middle;\n",
       "    }\n",
       "\n",
       "    .dataframe tbody tr th {\n",
       "        vertical-align: top;\n",
       "    }\n",
       "\n",
       "    .dataframe thead th {\n",
       "        text-align: right;\n",
       "    }\n",
       "</style>\n",
       "<table border=\"1\" class=\"dataframe\">\n",
       "  <thead>\n",
       "    <tr style=\"text-align: right;\">\n",
       "      <th></th>\n",
       "      <th>email</th>\n",
       "      <th>name</th>\n",
       "      <th>first</th>\n",
       "      <th>last</th>\n",
       "    </tr>\n",
       "  </thead>\n",
       "  <tbody>\n",
       "    <tr>\n",
       "      <th>0</th>\n",
       "      <td>jyoti@gmail.com</td>\n",
       "      <td>J Kumbhar</td>\n",
       "      <td>J</td>\n",
       "      <td>Kumbhar</td>\n",
       "    </tr>\n",
       "    <tr>\n",
       "      <th>1</th>\n",
       "      <td>bhumika@gmail.com</td>\n",
       "      <td>B Shelar</td>\n",
       "      <td>B</td>\n",
       "      <td>Shelar</td>\n",
       "    </tr>\n",
       "    <tr>\n",
       "      <th>2</th>\n",
       "      <td>kermeen@gmail.com</td>\n",
       "      <td>kermeen Deboo</td>\n",
       "      <td>kermeen</td>\n",
       "      <td>Deboo</td>\n",
       "    </tr>\n",
       "    <tr>\n",
       "      <th>3</th>\n",
       "      <td>gk@gmail.com</td>\n",
       "      <td>gauri Kumbhar</td>\n",
       "      <td>gauri</td>\n",
       "      <td>Kumbhar</td>\n",
       "    </tr>\n",
       "    <tr>\n",
       "      <th>4</th>\n",
       "      <td>NaN</td>\n",
       "      <td>NaN</td>\n",
       "      <td>Tony</td>\n",
       "      <td>Stark</td>\n",
       "    </tr>\n",
       "  </tbody>\n",
       "</table>\n",
       "</div>"
      ],
      "text/plain": [
       "               email           name    first     last\n",
       "0    jyoti@gmail.com      J Kumbhar        J  Kumbhar\n",
       "1  bhumika@gmail.com       B Shelar        B   Shelar\n",
       "2  kermeen@gmail.com  kermeen Deboo  kermeen    Deboo\n",
       "3       gk@gmail.com  gauri Kumbhar    gauri  Kumbhar\n",
       "4                NaN            NaN     Tony    Stark"
      ]
     },
     "execution_count": 95,
     "metadata": {},
     "output_type": "execute_result"
    }
   ],
   "source": [
    "df"
   ]
  },
  {
   "cell_type": "code",
   "execution_count": 100,
   "id": "c447b643-2a59-48b2-8997-f1a25bc2c33a",
   "metadata": {},
   "outputs": [],
   "source": [
    "Arendelle = {\n",
    "    \"first\" : [\"Queen\", \"Princess\"],\n",
    "    \"last\" : [\"Elsa\", \"Anna\"],\n",
    "    \"email\" : [\"QueenElsa@gmail.com\",\"PrincessAnna@gmail.com\"]\n",
    "}\n",
    "df2 = pd.DataFrame(Arendelle)"
   ]
  },
  {
   "cell_type": "code",
   "execution_count": 101,
   "id": "b9559d1d-8532-4d84-b959-8d0c3b8bfd24",
   "metadata": {},
   "outputs": [
    {
     "data": {
      "text/html": [
       "<div>\n",
       "<style scoped>\n",
       "    .dataframe tbody tr th:only-of-type {\n",
       "        vertical-align: middle;\n",
       "    }\n",
       "\n",
       "    .dataframe tbody tr th {\n",
       "        vertical-align: top;\n",
       "    }\n",
       "\n",
       "    .dataframe thead th {\n",
       "        text-align: right;\n",
       "    }\n",
       "</style>\n",
       "<table border=\"1\" class=\"dataframe\">\n",
       "  <thead>\n",
       "    <tr style=\"text-align: right;\">\n",
       "      <th></th>\n",
       "      <th>first</th>\n",
       "      <th>last</th>\n",
       "      <th>email</th>\n",
       "    </tr>\n",
       "  </thead>\n",
       "  <tbody>\n",
       "    <tr>\n",
       "      <th>0</th>\n",
       "      <td>Queen</td>\n",
       "      <td>Elsa</td>\n",
       "      <td>QueenElsa@gmail.com</td>\n",
       "    </tr>\n",
       "    <tr>\n",
       "      <th>1</th>\n",
       "      <td>Princess</td>\n",
       "      <td>Anna</td>\n",
       "      <td>PrincessAnna@gmail.com</td>\n",
       "    </tr>\n",
       "  </tbody>\n",
       "</table>\n",
       "</div>"
      ],
      "text/plain": [
       "      first  last                   email\n",
       "0     Queen  Elsa     QueenElsa@gmail.com\n",
       "1  Princess  Anna  PrincessAnna@gmail.com"
      ]
     },
     "execution_count": 101,
     "metadata": {},
     "output_type": "execute_result"
    }
   ],
   "source": [
    "df2"
   ]
  },
  {
   "cell_type": "code",
   "execution_count": 102,
   "id": "c1aa4718-d7ab-40f1-aac4-c455eb9bf0c3",
   "metadata": {},
   "outputs": [],
   "source": [
    "#add data from another data frame\n",
    "df = pd.concat([df, df2], ignore_index=True)"
   ]
  },
  {
   "cell_type": "code",
   "execution_count": 110,
   "id": "6941248d-1e3a-457b-a287-03c51d53585f",
   "metadata": {},
   "outputs": [
    {
     "data": {
      "text/html": [
       "<div>\n",
       "<style scoped>\n",
       "    .dataframe tbody tr th:only-of-type {\n",
       "        vertical-align: middle;\n",
       "    }\n",
       "\n",
       "    .dataframe tbody tr th {\n",
       "        vertical-align: top;\n",
       "    }\n",
       "\n",
       "    .dataframe thead th {\n",
       "        text-align: right;\n",
       "    }\n",
       "</style>\n",
       "<table border=\"1\" class=\"dataframe\">\n",
       "  <thead>\n",
       "    <tr style=\"text-align: right;\">\n",
       "      <th></th>\n",
       "      <th>email</th>\n",
       "      <th>name</th>\n",
       "      <th>first</th>\n",
       "      <th>last</th>\n",
       "    </tr>\n",
       "  </thead>\n",
       "  <tbody>\n",
       "    <tr>\n",
       "      <th>0</th>\n",
       "      <td>jyoti@gmail.com</td>\n",
       "      <td>J Kumbhar</td>\n",
       "      <td>J</td>\n",
       "      <td>Kumbhar</td>\n",
       "    </tr>\n",
       "    <tr>\n",
       "      <th>1</th>\n",
       "      <td>bhumika@gmail.com</td>\n",
       "      <td>B Shelar</td>\n",
       "      <td>B</td>\n",
       "      <td>Shelar</td>\n",
       "    </tr>\n",
       "    <tr>\n",
       "      <th>2</th>\n",
       "      <td>kermeen@gmail.com</td>\n",
       "      <td>kermeen Deboo</td>\n",
       "      <td>kermeen</td>\n",
       "      <td>Deboo</td>\n",
       "    </tr>\n",
       "    <tr>\n",
       "      <th>3</th>\n",
       "      <td>gk@gmail.com</td>\n",
       "      <td>gauri Kumbhar</td>\n",
       "      <td>gauri</td>\n",
       "      <td>Kumbhar</td>\n",
       "    </tr>\n",
       "    <tr>\n",
       "      <th>4</th>\n",
       "      <td>NaN</td>\n",
       "      <td>NaN</td>\n",
       "      <td>Tony</td>\n",
       "      <td>Stark</td>\n",
       "    </tr>\n",
       "    <tr>\n",
       "      <th>7</th>\n",
       "      <td>QueenElsa@gmail.com</td>\n",
       "      <td>NaN</td>\n",
       "      <td>Queen</td>\n",
       "      <td>Elsa</td>\n",
       "    </tr>\n",
       "    <tr>\n",
       "      <th>8</th>\n",
       "      <td>PrincessAnna@gmail.com</td>\n",
       "      <td>NaN</td>\n",
       "      <td>Princess</td>\n",
       "      <td>Anna</td>\n",
       "    </tr>\n",
       "  </tbody>\n",
       "</table>\n",
       "</div>"
      ],
      "text/plain": [
       "                    email           name     first     last\n",
       "0         jyoti@gmail.com      J Kumbhar         J  Kumbhar\n",
       "1       bhumika@gmail.com       B Shelar         B   Shelar\n",
       "2       kermeen@gmail.com  kermeen Deboo   kermeen    Deboo\n",
       "3            gk@gmail.com  gauri Kumbhar     gauri  Kumbhar\n",
       "4                     NaN            NaN      Tony    Stark\n",
       "7     QueenElsa@gmail.com            NaN     Queen     Elsa\n",
       "8  PrincessAnna@gmail.com            NaN  Princess     Anna"
      ]
     },
     "execution_count": 110,
     "metadata": {},
     "output_type": "execute_result"
    }
   ],
   "source": [
    "df\n",
    "##ignore index because of some error i made"
   ]
  },
  {
   "cell_type": "code",
   "execution_count": 111,
   "id": "6398e375-7321-416a-be12-442b4249cb8e",
   "metadata": {},
   "outputs": [],
   "source": [
    "##drop an row\n",
    "df=df.drop(index=4)"
   ]
  },
  {
   "cell_type": "code",
   "execution_count": 112,
   "id": "fe889f11-2a11-47bf-9f45-c01da0e982f7",
   "metadata": {},
   "outputs": [
    {
     "data": {
      "text/html": [
       "<div>\n",
       "<style scoped>\n",
       "    .dataframe tbody tr th:only-of-type {\n",
       "        vertical-align: middle;\n",
       "    }\n",
       "\n",
       "    .dataframe tbody tr th {\n",
       "        vertical-align: top;\n",
       "    }\n",
       "\n",
       "    .dataframe thead th {\n",
       "        text-align: right;\n",
       "    }\n",
       "</style>\n",
       "<table border=\"1\" class=\"dataframe\">\n",
       "  <thead>\n",
       "    <tr style=\"text-align: right;\">\n",
       "      <th></th>\n",
       "      <th>email</th>\n",
       "      <th>name</th>\n",
       "      <th>first</th>\n",
       "      <th>last</th>\n",
       "    </tr>\n",
       "  </thead>\n",
       "  <tbody>\n",
       "    <tr>\n",
       "      <th>0</th>\n",
       "      <td>jyoti@gmail.com</td>\n",
       "      <td>J Kumbhar</td>\n",
       "      <td>J</td>\n",
       "      <td>Kumbhar</td>\n",
       "    </tr>\n",
       "    <tr>\n",
       "      <th>1</th>\n",
       "      <td>bhumika@gmail.com</td>\n",
       "      <td>B Shelar</td>\n",
       "      <td>B</td>\n",
       "      <td>Shelar</td>\n",
       "    </tr>\n",
       "    <tr>\n",
       "      <th>2</th>\n",
       "      <td>kermeen@gmail.com</td>\n",
       "      <td>kermeen Deboo</td>\n",
       "      <td>kermeen</td>\n",
       "      <td>Deboo</td>\n",
       "    </tr>\n",
       "    <tr>\n",
       "      <th>3</th>\n",
       "      <td>gk@gmail.com</td>\n",
       "      <td>gauri Kumbhar</td>\n",
       "      <td>gauri</td>\n",
       "      <td>Kumbhar</td>\n",
       "    </tr>\n",
       "    <tr>\n",
       "      <th>7</th>\n",
       "      <td>QueenElsa@gmail.com</td>\n",
       "      <td>NaN</td>\n",
       "      <td>Queen</td>\n",
       "      <td>Elsa</td>\n",
       "    </tr>\n",
       "    <tr>\n",
       "      <th>8</th>\n",
       "      <td>PrincessAnna@gmail.com</td>\n",
       "      <td>NaN</td>\n",
       "      <td>Princess</td>\n",
       "      <td>Anna</td>\n",
       "    </tr>\n",
       "  </tbody>\n",
       "</table>\n",
       "</div>"
      ],
      "text/plain": [
       "                    email           name     first     last\n",
       "0         jyoti@gmail.com      J Kumbhar         J  Kumbhar\n",
       "1       bhumika@gmail.com       B Shelar         B   Shelar\n",
       "2       kermeen@gmail.com  kermeen Deboo   kermeen    Deboo\n",
       "3            gk@gmail.com  gauri Kumbhar     gauri  Kumbhar\n",
       "7     QueenElsa@gmail.com            NaN     Queen     Elsa\n",
       "8  PrincessAnna@gmail.com            NaN  Princess     Anna"
      ]
     },
     "execution_count": 112,
     "metadata": {},
     "output_type": "execute_result"
    }
   ],
   "source": [
    "df"
   ]
  },
  {
   "cell_type": "code",
   "execution_count": 115,
   "id": "562110f3-8e68-4e1a-babb-e5fe211ee3ef",
   "metadata": {},
   "outputs": [
    {
     "data": {
      "text/html": [
       "<div>\n",
       "<style scoped>\n",
       "    .dataframe tbody tr th:only-of-type {\n",
       "        vertical-align: middle;\n",
       "    }\n",
       "\n",
       "    .dataframe tbody tr th {\n",
       "        vertical-align: top;\n",
       "    }\n",
       "\n",
       "    .dataframe thead th {\n",
       "        text-align: right;\n",
       "    }\n",
       "</style>\n",
       "<table border=\"1\" class=\"dataframe\">\n",
       "  <thead>\n",
       "    <tr style=\"text-align: right;\">\n",
       "      <th></th>\n",
       "      <th>email</th>\n",
       "      <th>name</th>\n",
       "      <th>first</th>\n",
       "      <th>last</th>\n",
       "    </tr>\n",
       "  </thead>\n",
       "  <tbody>\n",
       "    <tr>\n",
       "      <th>1</th>\n",
       "      <td>bhumika@gmail.com</td>\n",
       "      <td>B Shelar</td>\n",
       "      <td>B</td>\n",
       "      <td>Shelar</td>\n",
       "    </tr>\n",
       "    <tr>\n",
       "      <th>2</th>\n",
       "      <td>kermeen@gmail.com</td>\n",
       "      <td>kermeen Deboo</td>\n",
       "      <td>kermeen</td>\n",
       "      <td>Deboo</td>\n",
       "    </tr>\n",
       "    <tr>\n",
       "      <th>7</th>\n",
       "      <td>QueenElsa@gmail.com</td>\n",
       "      <td>NaN</td>\n",
       "      <td>Queen</td>\n",
       "      <td>Elsa</td>\n",
       "    </tr>\n",
       "    <tr>\n",
       "      <th>8</th>\n",
       "      <td>PrincessAnna@gmail.com</td>\n",
       "      <td>NaN</td>\n",
       "      <td>Princess</td>\n",
       "      <td>Anna</td>\n",
       "    </tr>\n",
       "  </tbody>\n",
       "</table>\n",
       "</div>"
      ],
      "text/plain": [
       "                    email           name     first    last\n",
       "1       bhumika@gmail.com       B Shelar         B  Shelar\n",
       "2       kermeen@gmail.com  kermeen Deboo   kermeen   Deboo\n",
       "7     QueenElsa@gmail.com            NaN     Queen    Elsa\n",
       "8  PrincessAnna@gmail.com            NaN  Princess    Anna"
      ]
     },
     "execution_count": 115,
     "metadata": {},
     "output_type": "execute_result"
    }
   ],
   "source": [
    "filt=df['last']=='Kumbhar'\n",
    "df=df.drop(index=df[filt].index)\n",
    "df"
   ]
  },
  {
   "cell_type": "code",
   "execution_count": null,
   "id": "258e7acb-4a6d-4545-8abc-258822d4f70f",
   "metadata": {},
   "outputs": [],
   "source": []
  }
 ],
 "metadata": {
  "kernelspec": {
   "display_name": "Python 3 (ipykernel)",
   "language": "python",
   "name": "python3"
  },
  "language_info": {
   "codemirror_mode": {
    "name": "ipython",
    "version": 3
   },
   "file_extension": ".py",
   "mimetype": "text/x-python",
   "name": "python",
   "nbconvert_exporter": "python",
   "pygments_lexer": "ipython3",
   "version": "3.11.4"
  }
 },
 "nbformat": 4,
 "nbformat_minor": 5
}
